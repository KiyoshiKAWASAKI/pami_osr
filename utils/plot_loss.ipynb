{
 "cells": [
  {
   "cell_type": "code",
   "execution_count": 62,
   "metadata": {},
   "outputs": [],
   "source": [
    "import pandas as pd\n",
    "import numpy as np\n",
    "import csv\n",
    "import matplotlib.pyplot as plt\n",
    "import sys"
   ]
  },
  {
   "cell_type": "code",
   "execution_count": 63,
   "metadata": {},
   "outputs": [],
   "source": [
    "msd_csv = \"/Users/kiyoshi/Desktop/result_csv/addition/msd_base.csv\"\n",
    "msd_5_weight_csv = \"/Users/kiyoshi/Desktop/result_csv/addition/msd_5_weights.csv\"\n",
    "msd_pp_csv = \"/Users/kiyoshi/Desktop/result_csv/addition/msd_5_weights_pp.csv\""
   ]
  },
  {
   "cell_type": "code",
   "execution_count": 64,
   "metadata": {},
   "outputs": [],
   "source": [
    "df = pd.read_csv(msd_pp_csv, delimiter=\",\", index_col=False)\n",
    "df.columns = df.columns.str.strip()"
   ]
  },
  {
   "cell_type": "code",
   "execution_count": 65,
   "metadata": {},
   "outputs": [
    {
     "data": {
      "text/html": [
       "<div>\n",
       "<style scoped>\n",
       "    .dataframe tbody tr th:only-of-type {\n",
       "        vertical-align: middle;\n",
       "    }\n",
       "\n",
       "    .dataframe tbody tr th {\n",
       "        vertical-align: top;\n",
       "    }\n",
       "\n",
       "    .dataframe thead th {\n",
       "        text-align: right;\n",
       "    }\n",
       "</style>\n",
       "<table border=\"1\" class=\"dataframe\">\n",
       "  <thead>\n",
       "    <tr style=\"text-align: right;\">\n",
       "      <th></th>\n",
       "      <th>epoch</th>\n",
       "      <th>train_loss</th>\n",
       "      <th>train_acc_top1</th>\n",
       "      <th>train_acc_top3</th>\n",
       "      <th>train_acc_top5</th>\n",
       "      <th>valid_loss</th>\n",
       "      <th>valid_acc_top1</th>\n",
       "      <th>valid_acc_top3</th>\n",
       "      <th>valid_acc_top5</th>\n",
       "    </tr>\n",
       "  </thead>\n",
       "  <tbody>\n",
       "    <tr>\n",
       "      <th>0</th>\n",
       "      <td>1</td>\n",
       "      <td>28.962637</td>\n",
       "      <td>0.309819</td>\n",
       "      <td>1.203527</td>\n",
       "      <td>2.103194</td>\n",
       "      <td>28.40315</td>\n",
       "      <td>0.834128</td>\n",
       "      <td>2.430887</td>\n",
       "      <td>3.568875</td>\n",
       "    </tr>\n",
       "    <tr>\n",
       "      <th>1</th>\n",
       "      <td>2</td>\n",
       "      <td>28.288093</td>\n",
       "      <td>0.828170</td>\n",
       "      <td>2.490467</td>\n",
       "      <td>3.890610</td>\n",
       "      <td>27.70564</td>\n",
       "      <td>1.364395</td>\n",
       "      <td>3.574833</td>\n",
       "      <td>5.654194</td>\n",
       "    </tr>\n",
       "  </tbody>\n",
       "</table>\n",
       "</div>"
      ],
      "text/plain": [
       "   epoch  train_loss  train_acc_top1  train_acc_top3  train_acc_top5  \\\n",
       "0      1   28.962637        0.309819        1.203527        2.103194   \n",
       "1      2   28.288093        0.828170        2.490467        3.890610   \n",
       "\n",
       "   valid_loss  valid_acc_top1  valid_acc_top3  valid_acc_top5  \n",
       "0    28.40315        0.834128        2.430887        3.568875  \n",
       "1    27.70564        1.364395        3.574833        5.654194  "
      ]
     },
     "execution_count": 65,
     "metadata": {},
     "output_type": "execute_result"
    }
   ],
   "source": [
    "df.head(2)"
   ]
  },
  {
   "cell_type": "code",
   "execution_count": 66,
   "metadata": {},
   "outputs": [
    {
     "data": {
      "text/plain": [
       "Text(0.5, 0, 'Epoch')"
      ]
     },
     "execution_count": 66,
     "metadata": {},
     "output_type": "execute_result"
    },
    {
     "data": {
      "image/png": "[encoded data removed]",
      "text/plain": [
       "<Figure size 432x360 with 1 Axes>"
      ]
     },
     "metadata": {
      "needs_background": "light"
     },
     "output_type": "display_data"
    }
   ],
   "source": [
    "# Get training loss and validation loss\n",
    "loss = df[[\"train_loss\", \"valid_loss\"]]\n",
    "\n",
    "# Plot\n",
    "ax = loss.plot(figsize=(6, 5))\n",
    "\n",
    "ax.set_title(\"msd-5-weights-with-pp\", fontsize=15)\n",
    "ax.set_ylabel('Loss', fontsize=15)\n",
    "ax.set_xlabel('Epoch', fontsize=15)"
   ]
  },
  {
   "cell_type": "code",
   "execution_count": null,
   "metadata": {},
   "outputs": [],
   "source": []
  }
 ],
 "metadata": {
  "kernelspec": {
   "display_name": "Python 3",
   "language": "python",
   "name": "python3"
  },
  "language_info": {
   "codemirror_mode": {
    "name": "ipython",
    "version": 3
   },
   "file_extension": ".py",
   "mimetype": "text/x-python",
   "name": "python",
   "nbconvert_exporter": "python",
   "pygments_lexer": "ipython3",
   "version": "3.7.3"
  }
 },
 "nbformat": 4,
 "nbformat_minor": 2
}
