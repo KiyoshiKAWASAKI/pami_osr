{
 "cells": [
  {
   "cell_type": "code",
   "execution_count": 1,
   "metadata": {},
   "outputs": [],
   "source": [
    "import pandas as pd\n",
    "import numpy as np\n",
    "import csv\n",
    "import matplotlib.pyplot as plt\n",
    "import sys"
   ]
  },
  {
   "cell_type": "code",
   "execution_count": 30,
   "metadata": {},
   "outputs": [],
   "source": [
    "msd_csv = \"/Users/kiyoshi/Desktop/result_csv/msd_base.csv\"\n",
    "msd_5_weight_csv = \"/Users/kiyoshi/Desktop/result_csv/msd_5_weights.csv\"\n",
    "msd_pp_csv = \"/Users/kiyoshi/Desktop/result_csv/msd_5_weights_pp.csv\""
   ]
  },
  {
   "cell_type": "code",
   "execution_count": 49,
   "metadata": {},
   "outputs": [],
   "source": [
    "df = pd.read_csv(msd_pp_csv, delimiter=\",\", index_col=False)\n",
    "df.columns = df.columns.str.strip()"
   ]
  },
  {
   "cell_type": "code",
   "execution_count": 50,
   "metadata": {},
   "outputs": [
    {
     "data": {
      "text/html": [
       "<div>\n",
       "<style scoped>\n",
       "    .dataframe tbody tr th:only-of-type {\n",
       "        vertical-align: middle;\n",
       "    }\n",
       "\n",
       "    .dataframe tbody tr th {\n",
       "        vertical-align: top;\n",
       "    }\n",
       "\n",
       "    .dataframe thead th {\n",
       "        text-align: right;\n",
       "    }\n",
       "</style>\n",
       "<table border=\"1\" class=\"dataframe\">\n",
       "  <thead>\n",
       "    <tr style=\"text-align: right;\">\n",
       "      <th></th>\n",
       "      <th>epoch</th>\n",
       "      <th>train_loss</th>\n",
       "      <th>train_acc_top1</th>\n",
       "      <th>train_acc_top3</th>\n",
       "      <th>train_acc_top5</th>\n",
       "      <th>valid_loss</th>\n",
       "      <th>valid_acc_top1</th>\n",
       "      <th>valid_acc_top3</th>\n",
       "      <th>valid_acc_top5</th>\n",
       "    </tr>\n",
       "  </thead>\n",
       "  <tbody>\n",
       "    <tr>\n",
       "      <th>0</th>\n",
       "      <td>7</td>\n",
       "      <td>30.911139</td>\n",
       "      <td>0.328006</td>\n",
       "      <td>0.888597</td>\n",
       "      <td>1.431298</td>\n",
       "      <td>30.07865</td>\n",
       "      <td>0.298187</td>\n",
       "      <td>0.894561</td>\n",
       "      <td>1.490935</td>\n",
       "    </tr>\n",
       "    <tr>\n",
       "      <th>1</th>\n",
       "      <td>8</td>\n",
       "      <td>30.533421</td>\n",
       "      <td>0.274332</td>\n",
       "      <td>0.840887</td>\n",
       "      <td>1.407443</td>\n",
       "      <td>30.50936</td>\n",
       "      <td>0.298187</td>\n",
       "      <td>0.894561</td>\n",
       "      <td>1.490935</td>\n",
       "    </tr>\n",
       "  </tbody>\n",
       "</table>\n",
       "</div>"
      ],
      "text/plain": [
       "   epoch  train_loss  train_acc_top1  train_acc_top3  train_acc_top5  \\\n",
       "0      7   30.911139        0.328006        0.888597        1.431298   \n",
       "1      8   30.533421        0.274332        0.840887        1.407443   \n",
       "\n",
       "   valid_loss  valid_acc_top1  valid_acc_top3  valid_acc_top5  \n",
       "0    30.07865        0.298187        0.894561        1.490935  \n",
       "1    30.50936        0.298187        0.894561        1.490935  "
      ]
     },
     "execution_count": 50,
     "metadata": {},
     "output_type": "execute_result"
    }
   ],
   "source": [
    "df.head(2)"
   ]
  },
  {
   "cell_type": "code",
   "execution_count": 51,
   "metadata": {},
   "outputs": [
    {
     "data": {
      "text/plain": [
       "Text(0.5, 0, 'Epoch')"
      ]
     },
     "execution_count": 51,
     "metadata": {},
     "output_type": "execute_result"
    },
    {
     "data": {
      "image/png": "[encoded data removed]",
      "text/plain": [
       "<Figure size 432x360 with 1 Axes>"
      ]
     },
     "metadata": {
      "needs_background": "light"
     },
     "output_type": "display_data"
    }
   ],
   "source": [
    "# Get training loss and validation loss\n",
    "loss = df[[\"train_loss\", \"valid_loss\"]]\n",
    "\n",
    "# Plot\n",
    "ax = loss.plot(figsize=(6, 5))\n",
    "\n",
    "ax.set_title(\"msd_5_weights_pp\", fontsize=15)\n",
    "ax.set_ylabel('Loss', fontsize=15)\n",
    "ax.set_xlabel('Epoch', fontsize=15)"
   ]
  },
  {
   "cell_type": "code",
   "execution_count": null,
   "metadata": {},
   "outputs": [],
   "source": []
  }
 ],
 "metadata": {
  "kernelspec": {
   "display_name": "Python 3",
   "language": "python",
   "name": "python3"
  },
  "language_info": {
   "codemirror_mode": {
    "name": "ipython",
    "version": 3
   },
   "file_extension": ".py",
   "mimetype": "text/x-python",
   "name": "python",
   "nbconvert_exporter": "python",
   "pygments_lexer": "ipython3",
   "version": "3.7.3"
  }
 },
 "nbformat": 4,
 "nbformat_minor": 2
}
