{
 "cells": [
  {
   "cell_type": "code",
   "execution_count": 1,
   "metadata": {},
   "outputs": [],
   "source": [
    "import pandas as pd\n",
    "import numpy as np\n",
    "import csv"
   ]
  },
  {
   "cell_type": "markdown",
   "metadata": {},
   "source": [
    "## Define some paths and load files"
   ]
  },
  {
   "cell_type": "code",
   "execution_count": 126,
   "metadata": {},
   "outputs": [],
   "source": [
    "original_label_path = \"/Users/kiyoshi/Desktop/msdn_results/0807_0809/369_k_plus_1/original_labels.npy\"\n",
    "target_label_path = \"/Users/kiyoshi/Desktop/msdn_results/0807_0809/369_k_plus_1/targets.npy\"\n",
    "prob_path = \"/Users/kiyoshi/Desktop/msdn_results/0807_0809/369_k_plus_1/probs.npy\"\n",
    "rt_path = \"/Users/kiyoshi/Desktop/msdn_results/0807_0809/369_k_plus_1/rts.npy\""
   ]
  },
  {
   "cell_type": "code",
   "execution_count": null,
   "metadata": {},
   "outputs": [],
   "source": [
    "original_label_path = \"/Users/kiyoshi/Desktop/msdn_results/0807_0809/369_k_plus_1/original_labels.npy\"\n",
    "target_label_path = \"/Users/kiyoshi/Desktop/msdn_results/0807_0809/369_k_plus_1/targets.npy\"\n",
    "prob_path = \"/Users/kiyoshi/Desktop/msdn_results/0807_0809/369_k_plus_1/probs.npy\"\n",
    "rt_path = \"/Users/kiyoshi/Desktop/msdn_results/0807_0809/369_k_plus_1/rts.npy\""
   ]
  },
  {
   "cell_type": "code",
   "execution_count": 127,
   "metadata": {},
   "outputs": [],
   "source": [
    "original_labels = np.load(original_label_path)\n",
    "target_labels = np.load(target_label_path)\n",
    "probs = np.load(prob_path)\n",
    "rts = np.load(rt_path)"
   ]
  },
  {
   "cell_type": "code",
   "execution_count": 128,
   "metadata": {},
   "outputs": [
    {
     "name": "stdout",
     "output_type": "stream",
     "text": [
      "There are 43850 test samples.\n"
     ]
    }
   ],
   "source": [
    "print(\"There are %d test samples.\" % len(target_labels))"
   ]
  },
  {
   "cell_type": "code",
   "execution_count": 144,
   "metadata": {},
   "outputs": [
    {
     "data": {
      "text/plain": [
       "(43850, 5)"
      ]
     },
     "execution_count": 144,
     "metadata": {},
     "output_type": "execute_result"
    }
   ],
   "source": [
    "rts.shape"
   ]
  },
  {
   "cell_type": "code",
   "execution_count": 145,
   "metadata": {},
   "outputs": [
    {
     "data": {
      "text/plain": [
       "array([0.36520918, 0.47854429, 0.58382382, 0.70495211, 0.7959425 ])"
      ]
     },
     "execution_count": 145,
     "metadata": {},
     "output_type": "execute_result"
    }
   ],
   "source": [
    "rts[0]"
   ]
  },
  {
   "cell_type": "code",
   "execution_count": 146,
   "metadata": {},
   "outputs": [
    {
     "data": {
      "text/plain": [
       "0.7959424979053438"
      ]
     },
     "execution_count": 146,
     "metadata": {},
     "output_type": "execute_result"
    }
   ],
   "source": [
    "rts[0][4]"
   ]
  },
  {
   "cell_type": "code",
   "execution_count": 147,
   "metadata": {},
   "outputs": [
    {
     "data": {
      "text/plain": [
       "0.7959424979053438"
      ]
     },
     "execution_count": 147,
     "metadata": {},
     "output_type": "execute_result"
    }
   ],
   "source": [
    "rts[0, 4]"
   ]
  },
  {
   "cell_type": "markdown",
   "metadata": {},
   "source": [
    "## Get stats from the network output"
   ]
  },
  {
   "cell_type": "code",
   "execution_count": 129,
   "metadata": {},
   "outputs": [],
   "source": [
    "def get_exit_stats(original_labels,\n",
    "                   target_labels,\n",
    "                   probs,\n",
    "                   rts,\n",
    "                   top_k=5,\n",
    "                   nb_clfs=5,\n",
    "                   top_1_threshold=0.90,\n",
    "                   top_3_threshold=0.75,\n",
    "                   top_5_threshold=0.70,\n",
    "                   nb_training_classes=369):\n",
    "    \"\"\"\n",
    "    \n",
    "    \n",
    "    \"\"\"\n",
    "    \n",
    "    known_exit = []\n",
    "    known_rts = []\n",
    "    \n",
    "    unknown_exit = []\n",
    "    unknown_rts = []\n",
    "    \n",
    "    predictions = []\n",
    "    \n",
    "    \n",
    "#     for i in range(len(original_labels)):\n",
    "    for i in range(3):\n",
    "        # Get eveything we need for a test sample first\n",
    "        original_label = original_labels[i]\n",
    "        target_label = target_labels[i]\n",
    "        prob = probs[i]\n",
    "        rt = rts[i]\n",
    "        \n",
    "        # check each classifier in order and decide when to exit\n",
    "        for j in range(nb_clfs):\n",
    "            one_prob = prob[j]\n",
    "            pred = np.argmax(one_prob)\n",
    "            max_prob = np.sort(one_prob)[-1]\n",
    "            \n",
    "            # If this is not the last classifier \n",
    "            if j != nb_clfs-1:\n",
    "                # Only consider top-1 if it is not the last classifier\n",
    "                if max_prob > top_1_threshold:\n",
    "                    predictions.append(pred)\n",
    "                    \n",
    "                    if original_label < nb_training_classes-1:\n",
    "                        known_exit.append(j)\n",
    "                        known_rts.append(rt[j])\n",
    "                    elif original_label >= nb_training_classes-1:\n",
    "                        unknown_exit.append(j)\n",
    "                        unknown_rts.append(rt[j])\n",
    "                    \n",
    "                    # If top-1 is larger than threshold,\n",
    "                    # then directly go to next sample\n",
    "                    break\n",
    "                    \n",
    "                else:\n",
    "                    continue\n",
    "             \n",
    "            # If this is the last classifier\n",
    "            else:\n",
    "                # TODO: May need to update to top-k, but do top-1 first\n",
    "                # Get the top-k in decreasing order\n",
    "                #index = np.argpartition(prob, -top_k)[-top_k:]\n",
    "                #ind_top_k = np.flipud(index[np.argsort(prob[index])])\n",
    "                \n",
    "                \n",
    "                # Only consider top-1 now...\n",
    "                if max_prob > top_1_threshold:\n",
    "                    predictions.append(pred)\n",
    "                   \n",
    "                # If the probability is smaller than threshold for the last classifier,\n",
    "                # reject the sample as unknow\n",
    "                else:\n",
    "                    predictions.append(-1)\n",
    "                    \n",
    "                if original_label < nb_training_classes-1:\n",
    "                    known_exit.append(j)\n",
    "                    known_rts.append(rt[j])\n",
    "                else:\n",
    "                    unknown_exit.append(j)\n",
    "                    unknown_rts.append(rt[j])\n",
    "                    \n",
    "    return known_exit, known_rts, unknown_exit, unknown_rts, predictions\n",
    "        \n",
    "    \n",
    "    "
   ]
  },
  {
   "cell_type": "code",
   "execution_count": 130,
   "metadata": {},
   "outputs": [],
   "source": [
    "known_exit, known_rts, unknown_exit, unknown_rts, predictions = get_exit_stats(original_labels=original_labels,\n",
    "                                                                                target_labels=target_labels,\n",
    "                                                                                probs=probs,\n",
    "                                                                                rts=rts)"
   ]
  },
  {
   "cell_type": "markdown",
   "metadata": {},
   "source": [
    "## Count where the samples exit"
   ]
  },
  {
   "cell_type": "code",
   "execution_count": 131,
   "metadata": {},
   "outputs": [],
   "source": [
    "import matplotlib.pyplot as plt"
   ]
  },
  {
   "cell_type": "code",
   "execution_count": 132,
   "metadata": {},
   "outputs": [],
   "source": [
    "known_exit_count = np.unique(np.array(known_exit), return_counts=True)"
   ]
  },
  {
   "cell_type": "code",
   "execution_count": 133,
   "metadata": {},
   "outputs": [
    {
     "data": {
      "text/plain": [
       "array([ 8378,  4394,  2269,  1154, 23155])"
      ]
     },
     "execution_count": 133,
     "metadata": {},
     "output_type": "execute_result"
    }
   ],
   "source": [
    "known_exit_count[1]"
   ]
  },
  {
   "cell_type": "code",
   "execution_count": 134,
   "metadata": {},
   "outputs": [
    {
     "data": {
      "text/plain": [
       "<BarContainer object of 5 artists>"
      ]
     },
     "execution_count": 134,
     "metadata": {},
     "output_type": "execute_result"
    },
    {
     "data": {
      "image/png": "[encoded data removed]",
      "text/plain": [
       "<Figure size 432x360 with 1 Axes>"
      ]
     },
     "metadata": {
      "needs_background": "light"
     },
     "output_type": "display_data"
    }
   ],
   "source": [
    "fig, ax = plt.subplots(figsize=(6, 5))\n",
    "ax.set_ylabel('Number of Samples', fontsize=10)\n",
    "ax.set_title('Where the known samples exit', fontsize=20)\n",
    "\n",
    "ax.bar(known_exit_count[0]+1, height=known_exit_count[1])"
   ]
  },
  {
   "cell_type": "code",
   "execution_count": 135,
   "metadata": {},
   "outputs": [],
   "source": [
    "unknown_exit_count = np.unique(np.array(unknown_exit), return_counts=True)"
   ]
  },
  {
   "cell_type": "code",
   "execution_count": 136,
   "metadata": {},
   "outputs": [
    {
     "data": {
      "text/plain": [
       "<BarContainer object of 5 artists>"
      ]
     },
     "execution_count": 136,
     "metadata": {},
     "output_type": "execute_result"
    },
    {
     "data": {
      "image/png": "[encoded data removed]",
      "text/plain": [
       "<Figure size 432x360 with 1 Axes>"
      ]
     },
     "metadata": {
      "needs_background": "light"
     },
     "output_type": "display_data"
    }
   ],
   "source": [
    "fig, ax = plt.subplots(figsize=(6, 5))\n",
    "ax.set_ylabel('Number of Samples', fontsize=10)\n",
    "ax.set_title('Where the unknown samples exit', fontsize=20)\n",
    "\n",
    "ax.bar(unknown_exit_count[0]+1, height=unknown_exit_count[1])"
   ]
  },
  {
   "cell_type": "markdown",
   "metadata": {},
   "source": [
    "## Count the CM for known and unknown"
   ]
  },
  {
   "cell_type": "code",
   "execution_count": 137,
   "metadata": {},
   "outputs": [],
   "source": [
    "known_pred = predictions[:len(known_exit)]\n",
    "known_target = target_labels[:len(known_exit)]\n",
    "\n",
    "unknown_pred = predictions[len(known_exit):]\n",
    "unknown_target = target_labels[len(known_exit):]"
   ]
  },
  {
   "cell_type": "code",
   "execution_count": 138,
   "metadata": {},
   "outputs": [
    {
     "name": "stdout",
     "output_type": "stream",
     "text": [
      "17314 22036 2604 1896\n"
     ]
    }
   ],
   "source": [
    "known_known = 0\n",
    "known_unknow = 0\n",
    "unknown_known = 0\n",
    "unknown_unknown = 0\n",
    "\n",
    "for i in range(len(known_pred)):\n",
    "    if known_pred[i] != -1:\n",
    "        known_known += 1\n",
    "    else:\n",
    "        known_unknow += 1\n",
    "        \n",
    "for i in range(len(unknown_pred)):\n",
    "    if unknown_pred[i] != -1:\n",
    "        unknown_known += 1\n",
    "    else:\n",
    "        unknown_unknown += 1\n",
    "        \n",
    "print(known_known, known_unknow, unknown_known, unknown_unknown)"
   ]
  },
  {
   "cell_type": "markdown",
   "metadata": {},
   "source": [
    "## Get stats for reaction time (RT)"
   ]
  },
  {
   "cell_type": "code",
   "execution_count": 139,
   "metadata": {},
   "outputs": [],
   "source": [
    "known_rts_clf5 = rts[:len(known_exit), 4]\n",
    "unknown_rts_clf = rts[len(known_exit):, 4]"
   ]
  },
  {
   "cell_type": "code",
   "execution_count": 140,
   "metadata": {},
   "outputs": [
    {
     "name": "stdout",
     "output_type": "stream",
     "text": [
      "0.031583916395902634 0.031575437635183334\n"
     ]
    }
   ],
   "source": [
    "print(np.median(known_rts_clf5),np.median(unknown_rts_clf))"
   ]
  },
  {
   "cell_type": "code",
   "execution_count": 141,
   "metadata": {},
   "outputs": [
    {
     "name": "stdout",
     "output_type": "stream",
     "text": [
      "0.035213175434429846 0.035152573386828104\n"
     ]
    }
   ],
   "source": [
    "print(np.mean(known_rts_clf5),np.mean(unknown_rts_clf))"
   ]
  },
  {
   "cell_type": "code",
   "execution_count": 142,
   "metadata": {},
   "outputs": [
    {
     "name": "stdout",
     "output_type": "stream",
     "text": [
      "0.03018316556699574 0.028374167624861002\n"
     ]
    }
   ],
   "source": [
    "print(np.median(known_rts),np.median(unknown_rts))"
   ]
  },
  {
   "cell_type": "code",
   "execution_count": 143,
   "metadata": {},
   "outputs": [
    {
     "name": "stdout",
     "output_type": "stream",
     "text": [
      "0.02825355204195021 0.02523685448596047\n"
     ]
    }
   ],
   "source": [
    "print(np.mean(known_rts),np.mean(unknown_rts))"
   ]
  },
  {
   "cell_type": "markdown",
   "metadata": {},
   "source": [
    "## Get acc for this result"
   ]
  },
  {
   "cell_type": "code",
   "execution_count": 148,
   "metadata": {},
   "outputs": [
    {
     "name": "stdout",
     "output_type": "stream",
     "text": [
      "16360 22990 1830 2670\n"
     ]
    }
   ],
   "source": [
    "known_correct = 0\n",
    "known_wrong = 0\n",
    "\n",
    "unknown_correct = 0\n",
    "unknown_wrong = 0\n",
    "\n",
    "for i in range(len(known_pred)):\n",
    "    gt = known_target[i]\n",
    "    pred = known_pred[i]\n",
    "    \n",
    "    if gt == pred:\n",
    "        known_correct +=1\n",
    "    else:\n",
    "        known_wrong += 1\n",
    "        \n",
    "for i in range(len(unknown_pred)):\n",
    "    gt = unknown_target[i]\n",
    "    pred = unknown_pred[i]\n",
    "    \n",
    "    if gt == pred:\n",
    "        unknown_correct +=1\n",
    "    else:\n",
    "        unknown_wrong += 1        \n",
    "    \n",
    "print(known_correct, known_wrong, unknown_correct, unknown_wrong)"
   ]
  },
  {
   "cell_type": "code",
   "execution_count": 150,
   "metadata": {},
   "outputs": [],
   "source": [
    "known_acc = (known_correct/(known_correct+known_wrong))\n",
    "unknown_acc = (unknown_correct/(unknown_correct+unknown_wrong))"
   ]
  },
  {
   "cell_type": "code",
   "execution_count": 152,
   "metadata": {},
   "outputs": [
    {
     "name": "stdout",
     "output_type": "stream",
     "text": [
      "0.41575603557814483 0.4066666666666667\n"
     ]
    }
   ],
   "source": [
    "print(known_acc, unknown_acc)"
   ]
  },
  {
   "cell_type": "code",
   "execution_count": null,
   "metadata": {},
   "outputs": [],
   "source": []
  }
 ],
 "metadata": {
  "kernelspec": {
   "display_name": "Python 3",
   "language": "python",
   "name": "python3"
  },
  "language_info": {
   "codemirror_mode": {
    "name": "ipython",
    "version": 3
   },
   "file_extension": ".py",
   "mimetype": "text/x-python",
   "name": "python",
   "nbconvert_exporter": "python",
   "pygments_lexer": "ipython3",
   "version": "3.7.3"
  }
 },
 "nbformat": 4,
 "nbformat_minor": 2
}
