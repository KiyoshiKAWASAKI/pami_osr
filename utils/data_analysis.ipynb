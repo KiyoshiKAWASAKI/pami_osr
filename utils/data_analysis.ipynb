{
 "cells": [
  {
   "cell_type": "code",
   "execution_count": 1,
   "metadata": {},
   "outputs": [],
   "source": [
    "import pandas as pd\n",
    "import numpy as np\n",
    "import csv"
   ]
  },
  {
   "cell_type": "markdown",
   "metadata": {},
   "source": [
    "## Define some paths and load files"
   ]
  },
  {
   "cell_type": "code",
   "execution_count": 35,
   "metadata": {},
   "outputs": [],
   "source": [
    "original_label_path = \"/Users/kiyoshi/Desktop/msdn_results/0807_0809/orginal_lables_0808.npy\"\n",
    "target_label_path = \"/Users/kiyoshi/Desktop/msdn_results/0807_0809/targets_0808.npy\"\n",
    "prob_path = \"/Users/kiyoshi/Desktop/msdn_results/0807_0809/probs_0808_updated.npy\"\n",
    "rt_path = \"/Users/kiyoshi/Desktop/msdn_results/0807_0809/rts_0808_updated.npy\""
   ]
  },
  {
   "cell_type": "code",
   "execution_count": 36,
   "metadata": {},
   "outputs": [],
   "source": [
    "original_labels = np.load(original_label_path)\n",
    "target_labels = np.load(target_label_path)\n",
    "probs = np.load(prob_path)\n",
    "rts = np.load(rt_path)"
   ]
  },
  {
   "cell_type": "code",
   "execution_count": 59,
   "metadata": {},
   "outputs": [
    {
     "name": "stdout",
     "output_type": "stream",
     "text": [
      "There are 43850 test samples.\n"
     ]
    }
   ],
   "source": [
    "print(\"There are %d test samples.\" % len(target_labels))"
   ]
  },
  {
   "cell_type": "markdown",
   "metadata": {},
   "source": [
    "## Get stats from the network output"
   ]
  },
  {
   "cell_type": "code",
   "execution_count": 63,
   "metadata": {},
   "outputs": [],
   "source": [
    "def get_exit_stats(original_labels,\n",
    "                   target_labels,\n",
    "                   probs,\n",
    "                   rts,\n",
    "                   top_k=5,\n",
    "                   nb_clfs=5,\n",
    "                   top_1_threshold=0.90,\n",
    "                   top_3_threshold=0.75,\n",
    "                   top_5_threshold=0.70,\n",
    "                   nb_training_classes=369):\n",
    "    \"\"\"\n",
    "    \n",
    "    \n",
    "    \"\"\"\n",
    "    \n",
    "    known_exit = []\n",
    "    known_rts = []\n",
    "    \n",
    "    unknown_exit = []\n",
    "    unknown_rts = []\n",
    "    \n",
    "    predictions = []\n",
    "    \n",
    "    \n",
    "    for i in range(len(original_labels)):\n",
    "    #for i in range(3):\n",
    "        # Get eveything we need for a test sample first\n",
    "        original_label = original_labels[i]\n",
    "        target_label = target_labels[i]\n",
    "        prob = probs[i]\n",
    "        rt = rts[i]\n",
    "        \n",
    "        # check each classifier in order and decide when to exit\n",
    "        for j in range(nb_clfs):\n",
    "            one_prob = prob[j]\n",
    "            pred = np.argmax(one_prob)\n",
    "            max_prob = np.sort(one_prob)[-1]\n",
    "            \n",
    "            # If this is not the last classifier \n",
    "            if j != nb_clfs-1:\n",
    "                # Only consider top-1 if it is not the last classifier\n",
    "                if max_prob > top_1_threshold:\n",
    "                    predictions.append(pred)\n",
    "                    \n",
    "                    if original_label < nb_training_classes-1:\n",
    "                        known_exit.append(j)\n",
    "                        known_rts.append(rt[j])\n",
    "                    elif original_label >= nb_training_classes-1:\n",
    "                        unknown_exit.append(j)\n",
    "                        unknown_rts.append(rt[j])\n",
    "                    \n",
    "                    # If top-1 is larger than threshold,\n",
    "                    # then directly go to next sample\n",
    "                    break\n",
    "                    \n",
    "                else:\n",
    "                    continue\n",
    "             \n",
    "            # If this is the last classifier\n",
    "            else:\n",
    "                # TODO: May need to update to top-k, but do top-1 first\n",
    "                # Get the top-k in decreasing order\n",
    "                #index = np.argpartition(prob, -top_k)[-top_k:]\n",
    "                #ind_top_k = np.flipud(index[np.argsort(prob[index])])\n",
    "                \n",
    "                \n",
    "                # Only consider top-1 now...\n",
    "                if max_prob > top_1_threshold:\n",
    "                    predictions.append(pred)\n",
    "                   \n",
    "                # If the probability is smaller than threshold for the last classifier,\n",
    "                # reject the sample as unknow\n",
    "                else:\n",
    "                    predictions.append(-1)\n",
    "                    \n",
    "                if original_label < nb_training_classes-1:\n",
    "                    known_exit.append(j)\n",
    "                    known_rts.append(rt[j])\n",
    "                else:\n",
    "                    unknown_exit.append(j)\n",
    "                    unknown_rts.append(rt[j])\n",
    "                    \n",
    "    return known_exit, known_rts, unknown_exit, unknown_rts, predictions\n",
    "        \n",
    "    \n",
    "    "
   ]
  },
  {
   "cell_type": "code",
   "execution_count": 64,
   "metadata": {},
   "outputs": [],
   "source": [
    "known_exit, known_rts, unknown_exit, unknown_rts, predictions = get_exit_stats(original_labels=original_labels,\n",
    "                                                                                target_labels=target_labels,\n",
    "                                                                                probs=probs,\n",
    "                                                                                rts=rts)"
   ]
  },
  {
   "cell_type": "markdown",
   "metadata": {},
   "source": [
    "## Count where the samples exit"
   ]
  },
  {
   "cell_type": "code",
   "execution_count": 71,
   "metadata": {},
   "outputs": [],
   "source": [
    "import matplotlib.pyplot as plt"
   ]
  },
  {
   "cell_type": "code",
   "execution_count": 75,
   "metadata": {},
   "outputs": [],
   "source": [
    "known_exit_count = np.unique(np.array(known_exit), return_counts=True)"
   ]
  },
  {
   "cell_type": "code",
   "execution_count": 77,
   "metadata": {},
   "outputs": [
    {
     "data": {
      "text/plain": [
       "array([10874,  5313,  3093,  1440, 18630])"
      ]
     },
     "execution_count": 77,
     "metadata": {},
     "output_type": "execute_result"
    }
   ],
   "source": [
    "known_exit_count[1]"
   ]
  },
  {
   "cell_type": "code",
   "execution_count": 102,
   "metadata": {},
   "outputs": [
    {
     "data": {
      "text/plain": [
       "<BarContainer object of 5 artists>"
      ]
     },
     "execution_count": 102,
     "metadata": {},
     "output_type": "execute_result"
    },
    {
     "data": {
      "image/png": "[encoded data removed]",
      "text/plain": [
       "<Figure size 432x360 with 1 Axes>"
      ]
     },
     "metadata": {
      "needs_background": "light"
     },
     "output_type": "display_data"
    }
   ],
   "source": [
    "fig, ax = plt.subplots(figsize=(6, 5))\n",
    "ax.set_ylabel('Number of Samples', fontsize=10)\n",
    "ax.set_title('Where the known samples exit', fontsize=20)\n",
    "\n",
    "ax.bar(known_exit_count[0]+1, height=known_exit_count[1])"
   ]
  },
  {
   "cell_type": "code",
   "execution_count": 81,
   "metadata": {},
   "outputs": [],
   "source": [
    "unknown_exit_count = np.unique(np.array(unknown_exit), return_counts=True)"
   ]
  },
  {
   "cell_type": "code",
   "execution_count": 103,
   "metadata": {},
   "outputs": [
    {
     "data": {
      "text/plain": [
       "<BarContainer object of 5 artists>"
      ]
     },
     "execution_count": 103,
     "metadata": {},
     "output_type": "execute_result"
    },
    {
     "data": {
      "image/png": "[encoded data removed]",
      "text/plain": [
       "<Figure size 432x360 with 1 Axes>"
      ]
     },
     "metadata": {
      "needs_background": "light"
     },
     "output_type": "display_data"
    }
   ],
   "source": [
    "fig, ax = plt.subplots(figsize=(6, 5))\n",
    "ax.set_ylabel('Number of Samples', fontsize=10)\n",
    "ax.set_title('Where the unknown samples exit', fontsize=20)\n",
    "\n",
    "ax.bar(unknown_exit_count[0]+1, height=unknown_exit_count[1])"
   ]
  },
  {
   "cell_type": "markdown",
   "metadata": {},
   "source": [
    "## Count the CM for known and unknown"
   ]
  },
  {
   "cell_type": "code",
   "execution_count": 104,
   "metadata": {},
   "outputs": [],
   "source": [
    "known_pred = predictions[:len(known_exit)]\n",
    "known_target = target_labels[:len(known_exit)]\n",
    "\n",
    "unknown_pred = predictions[len(known_exit):]\n",
    "unknown_target = target_labels[len(known_exit):]"
   ]
  },
  {
   "cell_type": "code",
   "execution_count": 107,
   "metadata": {},
   "outputs": [
    {
     "name": "stdout",
     "output_type": "stream",
     "text": [
      "22089 17261 550 3950\n"
     ]
    }
   ],
   "source": [
    "known_known = 0\n",
    "known_unknow = 0\n",
    "unknown_known = 0\n",
    "unknown_unknown = 0\n",
    "\n",
    "for i in range(len(known_pred)):\n",
    "    if known_pred[i] != -1:\n",
    "        known_known += 1\n",
    "    else:\n",
    "        known_unknow += 1\n",
    "        \n",
    "for i in range(len(unknown_pred)):\n",
    "    if unknown_pred[i] != -1:\n",
    "        unknown_known += 1\n",
    "    else:\n",
    "        unknown_unknown += 1\n",
    "        \n",
    "print(known_known, known_unknow, unknown_known, unknown_unknown)"
   ]
  },
  {
   "cell_type": "markdown",
   "metadata": {},
   "source": [
    "## Get stats for reaction time (RT)"
   ]
  },
  {
   "cell_type": "code",
   "execution_count": 116,
   "metadata": {},
   "outputs": [],
   "source": [
    "known_rts_clf5 = rts[:len(known_exit), 4]\n",
    "unknown_rts_clf = rts[len(known_exit):, 4]"
   ]
  },
  {
   "cell_type": "code",
   "execution_count": 122,
   "metadata": {},
   "outputs": [
    {
     "name": "stdout",
     "output_type": "stream",
     "text": [
      "0.03171206242404878 0.03097486193291843\n"
     ]
    }
   ],
   "source": [
    "print(np.median(known_rts_clf5),np.median(unknown_rts_clf))"
   ]
  },
  {
   "cell_type": "code",
   "execution_count": 123,
   "metadata": {},
   "outputs": [
    {
     "name": "stdout",
     "output_type": "stream",
     "text": [
      "0.03349742144237366 0.03130619433718837\n"
     ]
    }
   ],
   "source": [
    "print(np.mean(known_rts_clf5),np.mean(unknown_rts_clf))"
   ]
  },
  {
   "cell_type": "code",
   "execution_count": 124,
   "metadata": {},
   "outputs": [
    {
     "name": "stdout",
     "output_type": "stream",
     "text": [
      "0.02846495434641838 0.03082930645905435\n"
     ]
    }
   ],
   "source": [
    "print(np.median(known_rts),np.median(unknown_rts))"
   ]
  },
  {
   "cell_type": "code",
   "execution_count": 125,
   "metadata": {},
   "outputs": [
    {
     "name": "stdout",
     "output_type": "stream",
     "text": [
      "0.025055299561335842 0.029957910738471483\n"
     ]
    }
   ],
   "source": [
    "print(np.mean(known_rts),np.mean(unknown_rts))"
   ]
  },
  {
   "cell_type": "code",
   "execution_count": null,
   "metadata": {},
   "outputs": [],
   "source": []
  }
 ],
 "metadata": {
  "kernelspec": {
   "display_name": "Python 3",
   "language": "python",
   "name": "python3"
  },
  "language_info": {
   "codemirror_mode": {
    "name": "ipython",
    "version": 3
   },
   "file_extension": ".py",
   "mimetype": "text/x-python",
   "name": "python",
   "nbconvert_exporter": "python",
   "pygments_lexer": "ipython3",
   "version": "3.7.3"
  }
 },
 "nbformat": 4,
 "nbformat_minor": 2
}
