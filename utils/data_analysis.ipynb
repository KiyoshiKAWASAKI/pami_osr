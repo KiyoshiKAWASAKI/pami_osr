{
 "cells": [
  {
   "cell_type": "code",
   "execution_count": 1,
   "metadata": {},
   "outputs": [],
   "source": [
    "import pandas as pd\n",
    "import numpy as np\n",
    "import csv\n",
    "import matplotlib.pyplot as plt\n",
    "import sys"
   ]
  },
  {
   "cell_type": "markdown",
   "metadata": {},
   "source": [
    "## Define some paths and load files"
   ]
  },
  {
   "cell_type": "code",
   "execution_count": 26,
   "metadata": {},
   "outputs": [],
   "source": [
    "# Results from simple setup-1\n",
    "original_label_path = \"/Users/kiyoshi/Desktop/msdn_results/0819/msd_369_novel_44_weighted_loss_setup1/test_results_0818/original_labels.npy\"\n",
    "target_label_path = \"/Users/kiyoshi/Desktop/msdn_results/0819/msd_369_novel_44_weighted_loss_setup1/test_results_0818/targets.npy\"\n",
    "prob_path = \"/Users/kiyoshi/Desktop/msdn_results/0819/msd_369_novel_44_weighted_loss_setup1/test_results_0818/probs.npy\"\n",
    "rt_path = \"/Users/kiyoshi/Desktop/msdn_results/0819/msd_369_novel_44_weighted_loss_setup1/test_results_0818/rts.npy\""
   ]
  },
  {
   "cell_type": "code",
   "execution_count": 3,
   "metadata": {},
   "outputs": [],
   "source": [
    "# Results from simple setup-2\n",
    "original_label_path = \"/Users/kiyoshi/Desktop/msdn_results/0819/msd_369_novel_44_weighted_loss_setup2/test_results_0818/original_labels.npy\"\n",
    "target_label_path = \"/Users/kiyoshi/Desktop/msdn_results/0819/msd_369_novel_44_weighted_loss_setup2/test_results_0818/targets.npy\"\n",
    "prob_path = \"/Users/kiyoshi/Desktop/msdn_results/0819/msd_369_novel_44_weighted_loss_setup2/test_results_0818/probs.npy\"\n",
    "rt_path = \"/Users/kiyoshi/Desktop/msdn_results/0819/msd_369_novel_44_weighted_loss_setup2/test_results_0818/rts.npy\""
   ]
  },
  {
   "cell_type": "code",
   "execution_count": 27,
   "metadata": {},
   "outputs": [],
   "source": [
    "original_labels = np.load(original_label_path)\n",
    "target_labels = np.load(target_label_path)\n",
    "probs = np.load(prob_path)\n",
    "rts = np.load(rt_path)"
   ]
  },
  {
   "cell_type": "code",
   "execution_count": 28,
   "metadata": {},
   "outputs": [
    {
     "name": "stdout",
     "output_type": "stream",
     "text": [
      "There are 43850 test samples.\n"
     ]
    }
   ],
   "source": [
    "print(\"There are %d test samples.\" % len(target_labels))"
   ]
  },
  {
   "cell_type": "markdown",
   "metadata": {},
   "source": [
    "## Get stats from the network output"
   ]
  },
  {
   "cell_type": "code",
   "execution_count": 29,
   "metadata": {},
   "outputs": [],
   "source": [
    "def get_exit_stats(original_labels,\n",
    "                   target_labels,\n",
    "                   probs,\n",
    "                   rts,\n",
    "                   top_1_threshold,\n",
    "                   top_3_threshold=0.05,\n",
    "                   top_5_threshold=0.03,\n",
    "                   top_k=5,\n",
    "                   nb_clfs=5,\n",
    "                   nb_training_classes=369):\n",
    "    \"\"\"\n",
    "    \n",
    "    \n",
    "    \"\"\"\n",
    "    \n",
    "    known_exit = []\n",
    "    known_rts = []\n",
    "    \n",
    "    unknown_exit = []\n",
    "    unknown_rts = []\n",
    "    \n",
    "    predictions = []\n",
    "    \n",
    "    \n",
    "    for i in range(len(original_labels)):\n",
    "#     for i in range(3):\n",
    "        # Get eveything we need for a test sample first\n",
    "        original_label = original_labels[i]\n",
    "        target_label = target_labels[i]\n",
    "        prob = probs[i]\n",
    "        rt = rts[i]\n",
    "        \n",
    "        # check each classifier in order and decide when to exit\n",
    "        for j in range(nb_clfs):\n",
    "            one_prob = prob[j]\n",
    "            pred = np.argmax(one_prob)\n",
    "            max_prob = np.sort(one_prob)[-1]\n",
    "            \n",
    "            # If this is not the last classifier \n",
    "            if j != nb_clfs-1:\n",
    "                # Only consider top-1 if it is not the last classifier\n",
    "                if max_prob > top_1_threshold:\n",
    "                    predictions.append(pred)\n",
    "                    \n",
    "                    if original_label < nb_training_classes-1:\n",
    "                        known_exit.append(j)\n",
    "                        known_rts.append(rt[j])\n",
    "                    elif original_label >= nb_training_classes-1:\n",
    "                        unknown_exit.append(j)\n",
    "                        unknown_rts.append(rt[j])\n",
    "                    \n",
    "                    # If top-1 is larger than threshold,\n",
    "                    # then directly go to next sample\n",
    "                    break\n",
    "                    \n",
    "                else:\n",
    "                    continue\n",
    "             \n",
    "            # If this is the last classifier\n",
    "            else:\n",
    "                # TODO: May need to update to top-k, but do top-1 first\n",
    "                # Get the top-k in decreasing order\n",
    "                #index = np.argpartition(prob, -top_k)[-top_k:]\n",
    "                #ind_top_k = np.flipud(index[np.argsort(prob[index])])\n",
    "                \n",
    "                \n",
    "                # Only consider top-1 now...\n",
    "                if max_prob > top_1_threshold:\n",
    "                    predictions.append(pred)\n",
    "                   \n",
    "                # If the probability is smaller than threshold for the last classifier,\n",
    "                # reject the sample as unknow\n",
    "                else:\n",
    "                    predictions.append(-1)\n",
    "                    \n",
    "                if original_label < nb_training_classes-1:\n",
    "                    known_exit.append(j)\n",
    "                    known_rts.append(rt[j])\n",
    "                else:\n",
    "                    unknown_exit.append(j)\n",
    "                    unknown_rts.append(rt[j])\n",
    "                    \n",
    "    return known_exit, known_rts, unknown_exit, unknown_rts, predictions\n",
    "        \n",
    "    \n",
    "    "
   ]
  },
  {
   "cell_type": "code",
   "execution_count": 30,
   "metadata": {},
   "outputs": [],
   "source": [
    "def get_threshold_curve(thresholds):\n",
    "    \n",
    "    known_acc_list, unknown_acc_list = [], []\n",
    "    \n",
    "    for thresh in thresholds:\n",
    "        known_exit, known_rts, unknown_exit, unknown_rts, predictions = get_exit_stats(original_labels=original_labels,\n",
    "                                                                                target_labels=target_labels,\n",
    "                                                                                probs=probs,\n",
    "                                                                                rts=rts,\n",
    "                                                                               top_1_threshold=thresh)\n",
    "\n",
    "        \n",
    "        known_known, known_unknown, unknown_known, unknown_unknown = 0, 0, 0, 0\n",
    "        known_pred = predictions[:len(known_exit)]\n",
    "        known_target = target_labels[:len(known_exit)]\n",
    "        unknown_pred = predictions[len(known_exit):]\n",
    "        unknown_target = target_labels[len(known_exit):]\n",
    "        \n",
    "        \n",
    "        for i in range(len(known_pred)):\n",
    "            if known_pred[i] != -1:\n",
    "                known_known += 1\n",
    "            else:\n",
    "                known_unknown += 1\n",
    "        \n",
    "        for i in range(len(unknown_pred)):\n",
    "            if unknown_pred[i] != -1:\n",
    "                unknown_known += 1\n",
    "            else:\n",
    "                unknown_unknown += 1\n",
    "                \n",
    "        print(known_known, known_unknown, unknown_known, unknown_unknown)\n",
    "                \n",
    "        known_acc = known_known/(known_known+known_unknown)\n",
    "        unknown_acc = unknown_unknown/(unknown_known+unknown_unknown)\n",
    "\n",
    "        known_acc_list.append(known_acc)\n",
    "        unknown_acc_list.append(unknown_acc) \n",
    "    \n",
    "    return known_acc_list, unknown_acc_list"
   ]
  },
  {
   "cell_type": "code",
   "execution_count": 31,
   "metadata": {},
   "outputs": [],
   "source": [
    "threshold_list = np.linspace(0.7, 0.9, 11)"
   ]
  },
  {
   "cell_type": "code",
   "execution_count": 32,
   "metadata": {},
   "outputs": [
    {
     "name": "stdout",
     "output_type": "stream",
     "text": [
      "38537 813 4186 314\n",
      "38384 966 4138 362\n",
      "38200 1150 4086 414\n",
      "38006 1344 4026 474\n",
      "37803 1547 3949 551\n",
      "37578 1772 3858 642\n",
      "37293 2057 3785 715\n",
      "36968 2382 3689 811\n",
      "36599 2751 3595 905\n",
      "36144 3206 3463 1037\n",
      "35637 3713 3317 1183\n"
     ]
    }
   ],
   "source": [
    "known_accs, unknown_accs = get_threshold_curve(thresholds=threshold_list)"
   ]
  },
  {
   "cell_type": "code",
   "execution_count": 33,
   "metadata": {},
   "outputs": [
    {
     "data": {
      "image/png": "[encoded data removed]",
      "text/plain": [
       "<Figure size 432x360 with 1 Axes>"
      ]
     },
     "metadata": {
      "needs_background": "light"
     },
     "output_type": "display_data"
    }
   ],
   "source": [
    "fig, ax = plt.subplots(figsize=(6, 5))\n",
    "ax.set_xlabel('threshold', fontsize=15)\n",
    "ax.set_ylabel('accuracy', fontsize=15)\n",
    "\n",
    "ax.plot(threshold_list, \n",
    "        known_accs,  \n",
    "        label='Known class acc', \n",
    "        marker='o', \n",
    "        linestyle='dashed',\n",
    "        linewidth=3, \n",
    "        markersize=8)\n",
    "ax.plot(threshold_list, \n",
    "        unknown_accs, \n",
    "        label=\"Unknown class acc\",\n",
    "        marker='o', \n",
    "        linestyle='dashed',\n",
    "        linewidth=3, \n",
    "        markersize=8)\n",
    "ax.legend()\n",
    "plt.show()"
   ]
  },
  {
   "cell_type": "markdown",
   "metadata": {},
   "source": [
    "## Count where the samples exit"
   ]
  },
  {
   "cell_type": "code",
   "execution_count": 34,
   "metadata": {},
   "outputs": [],
   "source": [
    "import matplotlib.pyplot as plt"
   ]
  },
  {
   "cell_type": "code",
   "execution_count": 35,
   "metadata": {},
   "outputs": [],
   "source": [
    "known_exit, known_rts, unknown_exit, unknown_rts, predictions = get_exit_stats(original_labels=original_labels,\n",
    "                                                                                target_labels=target_labels,\n",
    "                                                                                probs=probs,\n",
    "                                                                                rts=rts,\n",
    "                                                                               top_1_threshold=0.90)"
   ]
  },
  {
   "cell_type": "code",
   "execution_count": 36,
   "metadata": {},
   "outputs": [],
   "source": [
    "known_exit_count = np.unique(np.array(known_exit), return_counts=True)"
   ]
  },
  {
   "cell_type": "code",
   "execution_count": 37,
   "metadata": {},
   "outputs": [
    {
     "data": {
      "text/plain": [
       "array([30728,  3467,  1055,   272,  3828])"
      ]
     },
     "execution_count": 37,
     "metadata": {},
     "output_type": "execute_result"
    }
   ],
   "source": [
    "known_exit_count[1]"
   ]
  },
  {
   "cell_type": "code",
   "execution_count": 38,
   "metadata": {},
   "outputs": [
    {
     "data": {
      "text/plain": [
       "<BarContainer object of 5 artists>"
      ]
     },
     "execution_count": 38,
     "metadata": {},
     "output_type": "execute_result"
    },
    {
     "data": {
      "image/png": "[encoded data removed]",
      "text/plain": [
       "<Figure size 432x360 with 1 Axes>"
      ]
     },
     "metadata": {
      "needs_background": "light"
     },
     "output_type": "display_data"
    }
   ],
   "source": [
    "fig, ax = plt.subplots(figsize=(6, 5))\n",
    "ax.set_ylabel('Number of Samples', fontsize=10)\n",
    "ax.set_title('Where the known samples exit', fontsize=20)\n",
    "\n",
    "ax.bar(known_exit_count[0]+1, height=known_exit_count[1])"
   ]
  },
  {
   "cell_type": "code",
   "execution_count": 39,
   "metadata": {},
   "outputs": [],
   "source": [
    "unknown_exit_count = np.unique(np.array(unknown_exit), return_counts=True)"
   ]
  },
  {
   "cell_type": "code",
   "execution_count": 40,
   "metadata": {},
   "outputs": [
    {
     "data": {
      "text/plain": [
       "<BarContainer object of 5 artists>"
      ]
     },
     "execution_count": 40,
     "metadata": {},
     "output_type": "execute_result"
    },
    {
     "data": {
      "image/png": "[encoded data removed]",
      "text/plain": [
       "<Figure size 432x360 with 1 Axes>"
      ]
     },
     "metadata": {
      "needs_background": "light"
     },
     "output_type": "display_data"
    }
   ],
   "source": [
    "fig, ax = plt.subplots(figsize=(6, 5))\n",
    "ax.set_ylabel('Number of Samples', fontsize=10)\n",
    "ax.set_title('Where the unknown samples exit', fontsize=20)\n",
    "\n",
    "ax.bar(unknown_exit_count[0]+1, height=unknown_exit_count[1])"
   ]
  },
  {
   "cell_type": "markdown",
   "metadata": {},
   "source": [
    "## Count the CM for known and unknown"
   ]
  },
  {
   "cell_type": "code",
   "execution_count": 41,
   "metadata": {},
   "outputs": [
    {
     "name": "stdout",
     "output_type": "stream",
     "text": [
      "35637 3713 3317 1183\n"
     ]
    }
   ],
   "source": [
    "known_accs, unknown_accs = get_threshold_curve(thresholds=[0.9])"
   ]
  },
  {
   "cell_type": "code",
   "execution_count": 42,
   "metadata": {},
   "outputs": [
    {
     "name": "stdout",
     "output_type": "stream",
     "text": [
      "[0.9056416772554002] [0.2628888888888889]\n"
     ]
    }
   ],
   "source": [
    "print(known_accs, unknown_accs)"
   ]
  },
  {
   "cell_type": "code",
   "execution_count": 43,
   "metadata": {},
   "outputs": [],
   "source": [
    "known_rts_clf5 = rts[:len(known_exit), 4]\n",
    "unknown_rts_clf = rts[len(known_exit):, 4]"
   ]
  },
  {
   "cell_type": "code",
   "execution_count": 44,
   "metadata": {},
   "outputs": [
    {
     "name": "stdout",
     "output_type": "stream",
     "text": [
      "0.02931975293904543 0.03172642318531871\n"
     ]
    }
   ],
   "source": [
    "print(np.median(known_rts_clf5),np.median(unknown_rts_clf))"
   ]
  },
  {
   "cell_type": "code",
   "execution_count": 45,
   "metadata": {},
   "outputs": [
    {
     "name": "stdout",
     "output_type": "stream",
     "text": [
      "0.030699893621895864 0.03267030275933858\n"
     ]
    }
   ],
   "source": [
    "print(np.mean(known_rts_clf5),np.mean(unknown_rts_clf))"
   ]
  },
  {
   "cell_type": "code",
   "execution_count": 46,
   "metadata": {},
   "outputs": [
    {
     "name": "stdout",
     "output_type": "stream",
     "text": [
      "0.009946127887815237 0.01151929353363812\n"
     ]
    }
   ],
   "source": [
    "print(np.median(known_rts),np.median(unknown_rts))"
   ]
  },
  {
   "cell_type": "code",
   "execution_count": 47,
   "metadata": {},
   "outputs": [
    {
     "name": "stdout",
     "output_type": "stream",
     "text": [
      "0.013426438220474854 0.01816980642101003\n"
     ]
    }
   ],
   "source": [
    "print(np.mean(known_rts),np.mean(unknown_rts))"
   ]
  },
  {
   "cell_type": "code",
   "execution_count": null,
   "metadata": {},
   "outputs": [],
   "source": []
  }
 ],
 "metadata": {
  "kernelspec": {
   "display_name": "Python 3",
   "language": "python",
   "name": "python3"
  },
  "language_info": {
   "codemirror_mode": {
    "name": "ipython",
    "version": 3
   },
   "file_extension": ".py",
   "mimetype": "text/x-python",
   "name": "python",
   "nbconvert_exporter": "python",
   "pygments_lexer": "ipython3",
   "version": "3.7.3"
  }
 },
 "nbformat": 4,
 "nbformat_minor": 2
}
